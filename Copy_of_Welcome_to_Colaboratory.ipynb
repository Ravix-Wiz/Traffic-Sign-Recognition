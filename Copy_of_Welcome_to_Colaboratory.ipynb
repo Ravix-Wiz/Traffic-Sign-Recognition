{
  "cells": [
    {
      "cell_type": "code",
      "execution_count": 1,
      "metadata": {},
      "outputs": [],
      "source": [
        "from os import path\n"
      ]
    },
    {
      "cell_type": "code",
      "execution_count": 3,
      "metadata": {
        "colab": {
          "base_uri": "https://localhost:8080/"
        },
        "id": "RlumCetGzHz6",
        "outputId": "a15ae6a0-dce6-4bd8-9dcb-c9649ebafd29"
      },
      "outputs": [
        {
          "name": "stdout",
          "output_type": "stream",
          "text": [
            "Your browser has been opened to visit:\n",
            "\n",
            "    https://accounts.google.com/o/oauth2/auth?client_id=1000898488803-562tqrksdjltgq25aqnm3030ugbci1au.apps.googleusercontent.com&redirect_uri=http%3A%2F%2Flocalhost%3A8080%2F&scope=https%3A%2F%2Fwww.googleapis.com%2Fauth%2Fdrive&access_type=offline&response_type=code\n",
            "\n",
            "Authentication successful.\n",
            "Google Drive mounted successfully!\n"
          ]
        }
      ],
      "source": [
        "# from google.colab import drive\n",
        "# drive.mount('/content/drive')\n",
        "\n",
        "from pydrive.auth import GoogleAuth\n",
        "from pydrive.drive import GoogleDrive\n",
        "\n",
        "# Authenticate and create PyDrive client\n",
        "gauth = GoogleAuth()\n",
        "gauth.LoadClientConfigFile(\"E:\\\\client_secrets.json\")  # Replace with the actual path\n",
        "gauth.LocalWebserverAuth() # Opens a browser window to authenticate\n",
        "\n",
        "drive = GoogleDrive(gauth)\n",
        "\n",
        "# Mounted successfully\n",
        "print(\"Google Drive mounted successfully!\")\n",
        "\n"
      ]
    },
    {
      "cell_type": "code",
      "execution_count": 10,
      "metadata": {},
      "outputs": [
        {
          "name": "stdout",
          "output_type": "stream",
          "text": [
            "Found 'datasets' folder with ID: 1wwCg9_hX3M8-2_gVrcBpx-9J8tZlqdSi\n"
          ]
        }
      ],
      "source": [
        "# List files in the root directory of Google Drive\n",
        "file_list = drive.ListFile({'q': \"'root' in parents and trashed=false\"}).GetList()\n",
        "\n",
        "# Search for the 'datasets' directory\n",
        "datasets_folder_id = None\n",
        "for file in file_list:\n",
        "    if file['title'] == 'Data Science Projects' and file['mimeType'] == 'application/vnd.google-apps.folder':\n",
        "        datasets_folder_id = file['id']\n",
        "        break\n",
        "\n",
        "if datasets_folder_id:\n",
        "    print(\"Found 'datasets' folder with ID:\", datasets_folder_id)\n",
        "else:\n",
        "    print(\"Could not find 'datasets' folder.\")\n"
      ]
    },
    {
      "cell_type": "code",
      "execution_count": 8,
      "metadata": {},
      "outputs": [
        {
          "name": "stdout",
          "output_type": "stream",
          "text": [
            "Title: Music Recommendation System, ID: 1NeZyebA8SgreCoaDEgHNXQfXNQRlLQEE\n",
            "Title: Traffic Sign Recognition, ID: 1U9i8tAv7gXrINsC5oOrW3FiHZADWXr41\n",
            "Title: Fine tune LLM, ID: 1pgKcZrK2WV8pm4AYr6iOhWg_Gvxn6BZ7\n",
            "Title: BCGX, ID: 1FPtEQ2eE00cx7OJTRHwmbVgDBD7db4BK\n",
            "Title: Cognizant, ID: 1AR5mwzQOBXO9Mot0nmi_pceJXKJqU5se\n",
            "Title: Spam Comments Detection in Youtube, ID: 1EXxZJninqYJjXOF4zDzsC1WfuB9qcmQ2\n",
            "Title: House Prices Prediction, ID: 1FZUM034QWczwylsvh8c8xmOnqVlNAd_A\n",
            "Title: Emotion Detection, ID: 1WCmgmmpQgjhApleBOBuVSMkgkpYiSq71\n"
          ]
        }
      ],
      "source": [
        "# List files in the 'Data Science Projects' folder using its ID\n",
        "folder_id = '1wwCg9_hX3M8-2_gVrcBpx-9J8tZlqdSi'\n",
        "file_list = drive.ListFile({'q': f\"'{folder_id}' in parents and trashed=false\"}).GetList()\n",
        "for file in file_list:\n",
        "    print('Title: {}, ID: {}'.format(file['title'], file['id']))\n"
      ]
    },
    {
      "cell_type": "code",
      "execution_count": 12,
      "metadata": {},
      "outputs": [
        {
          "name": "stdout",
          "output_type": "stream",
          "text": [
            "Title: 9, ID: 1QyWu8YfFwJt73w93hYIAv27Cveqy1LRZ\n",
            "Title: 8, ID: 1RAkX9_iBlaDYziV6DV9eS8LJ98CXKS9L\n",
            "Title: 7, ID: 1QAfhgBmaSaeZ4hUwIw47Jdsdjfj5xBeR\n",
            "Title: 6, ID: 1QC1HS9si3xd8J6piWqenKH8p7jE6fkJg\n",
            "Title: 5, ID: 1QCanxaVuOl6JRilSDVkC0jreH-pIjWBu\n",
            "Title: 42, ID: 1QEgbLDod_8NIbklLP_Lbp5wGWwSQG3ky\n",
            "Title: 41, ID: 1QF6gxkOnG9Xlekpu4SHKPzf1BOPntVJY\n",
            "Title: 40, ID: 1QOEy4NGqiVkIn-C_pKoECD3wVwmPRpS6\n",
            "Title: 4, ID: 1QOeoH-wZul7yDzBiPbHKY4yllQ4c_qcF\n",
            "Title: 39, ID: 1QZg0XUVcjBVFHkXM5hHA4Lb12Tx6Tuxo\n",
            "Title: 38, ID: 1QczCFNNmQgcf2-a98Uy0HarPKQ285FGi\n",
            "Title: 37, ID: 1QgGXNm1taNJ-e0slidP812zjLrJtMXb6\n",
            "Title: 36, ID: 1QoBhgNjofE0NZu91aDMh354OS1Qq2vO6\n",
            "Title: 35, ID: 1Qr1J7NvYAmqW_OWrX-s8sBCPAQq6fm1q\n",
            "Title: 34, ID: 1Qtsbaalh1W6LNm6G6TDkzt_9lpoy8hZd\n",
            "Title: 33, ID: 1QuOAC01APRWGb5MTl3Z_2bUMsnUdDerV\n",
            "Title: 32, ID: 1Mu0tW8KwXkFiqdR-actj8A---oYNrG6y\n",
            "Title: 31, ID: 1MvnfZv0kcHu7CYkrPKcCpgg3r5HLUvd7\n",
            "Title: 30, ID: 1MxxsWmFApB4oliLuP5BpTFZTO94fONWP\n",
            "Title: 3, ID: 1Mywdzrewso1e958YLjDqE-nx2AFWIW5M\n",
            "Title: 29, ID: 1MzJzgZVFEeqTo3F992ra_fzs81aDFZWw\n",
            "Title: 28, ID: 1NFd67WIjnYIp-wO07J-wu13YdjZHEEOP\n",
            "Title: 27, ID: 1NHXG2en_rLlGsrboOrSUFMTtgZoDDtMQ\n",
            "Title: 26, ID: 1NIzy6whF4GBnxgxyqkYPXgWs0no9W3PA\n",
            "Title: 25, ID: 1NRyhMfwkXrMwtUML1VxjI__b9MVf8McC\n",
            "Title: 24, ID: 1NYOEvbRvSq72mR4qNsAbrvPevPzfidwP\n",
            "Title: 23, ID: 1NaqVnO13MkfUFxcQI7GOBy65Vx96zatG\n",
            "Title: 22, ID: 1Nb2yA9CLR7GO9CYLbZo5Qx6Gt_3Mon_i\n",
            "Title: 21, ID: 1NbU0IGNaKgGZxw89D1ed3YJspvWd7Gfw\n",
            "Title: 20, ID: 1NjFDIh1PCsVNmIyu0IR0GrgfQI3I3TQu\n",
            "Title: 2, ID: 1Nk_cvmhAcXOaysQBAFYqvvbJGDEqTFqf\n",
            "Title: 19, ID: 1LjMWZgit3FNvNPfAoT6-WG9rTHo8AB8U\n",
            "Title: 18, ID: 1Lkxsfmr8Y_gp0DpP92Kp3iasqcNoLFt-\n",
            "Title: 17, ID: 1LqT7DZVzjGIhLqiTz8rI-Z1poS6GNZzy\n",
            "Title: 16, ID: 1LveHvtBHkJrvGuRP0VowP8vTj4noqCGE\n",
            "Title: 15, ID: 1M51fVs-vcmwsXvyBYLqQ4u-NzhVoOBR5\n",
            "Title: 14, ID: 1M7l-ymPcISTMisnA72bv_SH4mEkLigSC\n",
            "Title: 13, ID: 1M9suEu-yGUcDA1PqGk0eCjasnpRB-jiz\n",
            "Title: 12, ID: 1MA4PC3ILdIN-Y--icU5dAKHru68S98Oy\n",
            "Title: 11, ID: 1MHRzeiCsxM0G-1tHpOoAPWGaA6GRNcJp\n",
            "Title: 10, ID: 1MTmGCc32o5lCydZlKWfV67XI607vr2Fi\n",
            "Title: 1, ID: 1-7PCf1GaKanRHr98ktDKDnkyAsPiI5mt\n",
            "Title: 0, ID: 1-86jkcE0_2_wti1k60etNqkKDDa2fTUD\n",
            "Dataset files: ['9', '8', '7', '6', '5', '42', '41', '40', '4', '39', '38', '37', '36', '35', '34', '33', '32', '31', '30', '3', '29', '28', '27', '26', '25', '24', '23', '22', '21', '20', '2', '19', '18', '17', '16', '15', '14', '13', '12', '11', '10', '1', '0']\n"
          ]
        }
      ],
      "source": [
        "def get_folder_id(parent_id, folder_name):\n",
        "    query = f\"'{parent_id}' in parents and trashed=false and mimeType='application/vnd.google-apps.folder' and title='{folder_name}'\"\n",
        "    file_list = drive.ListFile({'q': query}).GetList()\n",
        "    if file_list:\n",
        "        return file_list[0]['id']\n",
        "    else:\n",
        "        print(f\"Folder '{folder_name}' not found.\")\n",
        "        return None\n",
        "\n",
        "# Step 1: Get 'Traffic Sign Recognition' folder ID inside 'Data Science Projects'\n",
        "data_science_projects_id = '1wwCg9_hX3M8-2_gVrcBpx-9J8tZlqdSi'  # Use the previously obtained ID\n",
        "traffic_sign_recognition_id = get_folder_id(data_science_projects_id, 'Traffic Sign Recognition')\n",
        "\n",
        "# Step 2: Get 'data' folder ID inside 'Traffic Sign Recognition'\n",
        "if traffic_sign_recognition_id:\n",
        "    data_folder_id = get_folder_id(traffic_sign_recognition_id, 'data')\n",
        "\n",
        "# Step 3: Get 'myData' folder ID inside 'data'\n",
        "if data_folder_id:\n",
        "    my_data_folder_id = get_folder_id(data_folder_id, 'myData')\n",
        "\n",
        "# Step 4: List files in 'myData' folder and use as dataset path\n",
        "if my_data_folder_id:\n",
        "    file_list = drive.ListFile({'q': f\"'{my_data_folder_id}' in parents and trashed=false\"}).GetList()\n",
        "    for file in file_list:\n",
        "        print('Title: {}, ID: {}'.format(file['title'], file['id']))\n",
        "\n",
        "    # Example usage in dataset creation function\n",
        "    # Here you should include your dataset creation code using the files in the 'myData' folder\n",
        "    # For demonstration, I'm printing file titles\n",
        "    dataset_files = [file['title'] for file in file_list]\n",
        "    print(\"Dataset files:\", dataset_files)\n",
        "else:\n",
        "    print(\"Could not navigate to 'myData' folder.\")"
      ]
    },
    {
      "cell_type": "code",
      "execution_count": null,
      "metadata": {
        "collapsed": true,
        "id": "8N6KCyNR2OMq"
      },
      "outputs": [],
      "source": [
        "# import zipfile\n",
        "# import os\n",
        "\n",
        "# zip_file_path = \"archive (3).zip\"\n",
        "# extract_dir = \"data\"\n",
        "\n",
        "# if not os.path.exists(extract_dir):\n",
        "#     os.makedirs(extract_dir)\n",
        "\n",
        "# with zipfile.ZipFile(zip_file_path, 'r') as zip_ref:\n",
        "#     zip_ref.extractall(extract_dir)\n",
        "\n",
        "# print(\"unzipping done!\")\n",
        "\n",
        "\n"
      ]
    },
    {
      "cell_type": "markdown",
      "metadata": {
        "id": "iwyD1oUq53E3"
      },
      "source": [
        "# ***Steps to be followed***\n",
        "\n",
        "\n",
        "\n",
        "\n",
        "1.Load and Visualize Data\n",
        "\n",
        "2.Data Preparation for Training\n",
        "\n",
        "\n",
        "\n",
        "3.Data Augmentation\n",
        "\n",
        "4.Model Architecture\n",
        "\n",
        "5.Compile and Train the Model\n",
        "\n",
        "6.Model Evaluation"
      ]
    },
    {
      "cell_type": "markdown",
      "metadata": {
        "id": "QIvFftZJPYAY"
      },
      "source": [
        "# **Step 1 - Load and Visualize Data**"
      ]
    },
    {
      "cell_type": "code",
      "execution_count": 17,
      "metadata": {
        "colab": {
          "base_uri": "https://localhost:8080/",
          "height": 394
        },
        "id": "qLylu5j07nQk",
        "outputId": "0a27bbfc-79ef-4935-d8e2-d821cc981eb9"
      },
      "outputs": [
        {
          "name": "stdout",
          "output_type": "stream",
          "text": [
            "Is TensorFlow built with GPU support?  False\n",
            "Num GPUs Available:  0\n",
            "No GPU found. Please check the runtime settings.\n"
          ]
        },
        {
          "data": {
            "image/png": "[encoded data removed]",
            "text/plain": [
              "<Figure size 100x100 with 1 Axes>"
            ]
          },
          "metadata": {},
          "output_type": "display_data"
        },
        {
          "data": {
            "image/png": "[encoded data removed]",
            "text/plain": [
              "<Figure size 100x100 with 1 Axes>"
            ]
          },
          "metadata": {},
          "output_type": "display_data"
        },
        {
          "name": "stdout",
          "output_type": "stream",
          "text": [
            "The label for class 29 is: Bicycles crossing\n",
            "The label for class 13 is: Yield\n"
          ]
        }
      ],
      "source": [
        "import matplotlib.pyplot as plt\n",
        "import pandas as pd\n",
        "import tensorflow as tf\n",
        "import cv2   #module of the opencv library\n",
        "import os\n",
        "\n",
        "# Check if TensorFlow is built with GPU support\n",
        "print(\"Is TensorFlow built with GPU support? \", tf.test.is_built_with_cuda())\n",
        "\n",
        "# List available GPUs\n",
        "print(\"Num GPUs Available: \", len(tf.config.list_physical_devices('GPU')))\n",
        "\n",
        "# Details about the GPU\n",
        "if tf.config.list_physical_devices('GPU'):\n",
        "    gpu_details = tf.config.experimental.get_device_details(tf.config.list_physical_devices('GPU')[0])\n",
        "    print(\"GPU details: \", gpu_details)\n",
        "else:\n",
        "    print(\"No GPU found. Please check the runtime settings.\")\n",
        "\n",
        "#Path to the dataset folder\n",
        "dataset_path = \"D://drive/Training Data\"\n",
        "labels_file_path = \"D://drive/Training Data/labels.csv\"\n",
        "\n",
        "#load the label file\n",
        "labels_df = pd.read_csv(labels_file_path)\n",
        "\n",
        "#Visualize some images\n",
        "plt.figure(figsize=(1, 1))\n",
        "img1 = cv2.imread(os.path.join(dataset_path, \"29/00000_00000.jpg\"))  #Read an image from file\n",
        "plt.imshow(cv2.cvtColor(img1, cv2.COLOR_BGR2RGB))  #color conversion of image for proper display with matplotlib\n",
        "plt.title('Class 29 image')\n",
        "plt.show()\n",
        "\n",
        "plt.figure(figsize=(1, 1))\n",
        "img2 = cv2.imread(os.path.join(dataset_path, \"13/00000_00000.jpg\"))\n",
        "plt.imshow(cv2.cvtColor(img2, cv2.COLOR_BGR2RGB))\n",
        "plt.title('Class 13 image')\n",
        "plt.show()\n",
        "\n",
        "# print(labels_df.head())\n",
        "# print(labels_df.tail())\n",
        "\n",
        "\n",
        "# Function to get the label of a certain image class\n",
        "\n",
        "def get_label(class_id):\n",
        "    label_row = labels_df[labels_df['ClassId'] == class_id]\n",
        "    if not label_row.empty:\n",
        "        label_name = label_row.iloc[0]['Name']\n",
        "        return label_name\n",
        "    else:\n",
        "        return \"Label not found\"\n",
        "\n",
        "# Example: Get the label for class 29\n",
        "class_id = 29\n",
        "label = get_label(class_id)\n",
        "print(f'The label for class {class_id} is: {label}')\n",
        "\n",
        "# Example: Get the label for class 13\n",
        "class_id = 13\n",
        "label = get_label(class_id)\n",
        "print(f'The label for class {class_id} is: {label}')\n",
        "\n"
      ]
    },
    {
      "cell_type": "markdown",
      "metadata": {
        "id": "BBlayRGBPpRC"
      },
      "source": [
        "# **Step 2 - Data Preperation for Training**"
      ]
    },
    {
      "cell_type": "code",
      "execution_count": 30,
      "metadata": {
        "colab": {
          "base_uri": "https://localhost:8080/",
          "height": 517
        },
        "id": "VmRrd1prQBxp",
        "outputId": "f7b9cd2e-1576-4bdc-eacd-1e4de521f083"
      },
      "outputs": [
        {
          "name": "stdout",
          "output_type": "stream",
          "text": [
            "Found 73139 files belonging to 43 classes.\n",
            "Using 58512 files for training.\n",
            "Found 73139 files belonging to 43 classes.\n",
            "Using 14627 files for validation.\n"
          ]
        },
        {
          "data": {
            "image/png": "[encoded data removed]",
            "text/plain": [
              "<Figure size 500x500 with 9 Axes>"
            ]
          },
          "metadata": {},
          "output_type": "display_data"
        },
        {
          "name": "stdout",
          "output_type": "stream",
          "text": [
            "['Speed limit (20km/h)', 'Speed limit (30km/h)', 'No passing for vechiles over 3.5 metric tons', 'Right-of-way at the next intersection', 'Priority road', 'Yield', 'Stop', 'No vechiles', 'Vechiles over 3.5 metric tons prohibited', 'No entry', 'General caution', 'Dangerous curve to the left', 'Speed limit (50km/h)', 'Dangerous curve to the right', 'Double curve', 'Bumpy road', 'Slippery road', 'Road narrows on the right', 'Road work', 'Traffic signals', 'Pedestrians', 'Children crossing', 'Bicycles crossing', 'Speed limit (60km/h)', 'Beware of ice/snow', 'Wild animals crossing', 'End of all speed and passing limits', 'Turn right ahead', 'Turn left ahead', 'Ahead only', 'Go straight or right', 'Go straight or left', 'Keep right', 'Keep left', 'Speed limit (70km/h)', 'Roundabout mandatory', 'End of no passing', 'End of no passing by vechiles over 3.5 metric tons', 'Speed limit (80km/h)', 'End of speed limit (80km/h)', 'Speed limit (100km/h)', 'Speed limit (120km/h)', 'No passing']\n"
          ]
        }
      ],
      "source": [
        "#this function creates a dataset from images stored in a directory\n",
        "from tensorflow.keras.preprocessing import image_dataset_from_directory\n",
        "\n",
        "#Load the datasets\n",
        "\n",
        "train_ds = image_dataset_from_directory(\n",
        "    dataset_path,\n",
        "    validation_split=0.2,\n",
        "    subset=\"training\",\n",
        "    seed=123,    #ensure consistent data splitting each time\n",
        "    image_size=(32,32),\n",
        "    batch_size=32\n",
        "\n",
        ")\n",
        "\n",
        "val_ds = image_dataset_from_directory(\n",
        "    dataset_path,\n",
        "    validation_split=0.2,\n",
        "    subset=\"validation\",\n",
        "    seed=123,\n",
        "    image_size=(32,32),\n",
        "    batch_size=64\n",
        "\n",
        ")\n",
        "\n",
        "#Map Class Numbers to class names\n",
        "\n",
        "class_numbers = train_ds.class_names     #in here classs names are-> 0 t0 42\n",
        "class_names = [labels_df['Name'][int(i)] for i in class_numbers]\n",
        "\n",
        "#Visualize some training images with corresponding labels\n",
        "\n",
        "plt.figure(figsize=(5,5))\n",
        "for images, labels in train_ds.take(1):        #takes one batch(32 images)\n",
        "    for i in range(9):\n",
        "        ax = plt.subplot(3, 3, i + 1)\n",
        "        plt.imshow(images[i].numpy().astype(\"uint8\"))\n",
        "        plt.title(class_names[labels[i]])\n",
        "        plt.axis(\"off\")\n",
        "plt.show()\n",
        "\n",
        "\n",
        "print(class_names)\n",
        "\n"
      ]
    },
    {
      "cell_type": "markdown",
      "metadata": {
        "id": "nw51bT3Y_HWb"
      },
      "source": [
        "# **Step 3 - Data Augmentation**\n",
        "\n",
        "\n",
        "\n"
      ]
    },
    {
      "cell_type": "code",
      "execution_count": 19,
      "metadata": {
        "id": "VyqISv9B_Qw6"
      },
      "outputs": [
        {
          "name": "stdout",
          "output_type": "stream",
          "text": [
            "TensorFlow version: 2.16.1\n"
          ]
        }
      ],
      "source": [
        "#Apply data augmentation to our training dataset to improve the model's robustness by exposing it to a wider variety of image conditions.\n",
        "\n",
        "# increase the diversity of the training data without actually collecting new data.\n",
        "\n",
        "#It involves applying various transformations to the training images, such as rotations, translations, flips, zooms, and more, to create new variations of the existing images.\n",
        "\n",
        "\n",
        "\n",
        "\n",
        "#Define the Data Augmentation Pipeline\n",
        "# data_augmentation = tf.keras.Sequential([\n",
        "#     tf.keras.layers.experimental.preprocessing.RandomFlip(\"horizontal_and_vertical\"),\n",
        "#     tf.keras.layers.experimental.preprocessing.RandomRotation(0.2),\n",
        "#     tf.keras.layers.experimental.preprocessing.RandomZoom(0.2),\n",
        "#     tf.keras.layers.experimental.preprocessing.RandomContrast(0.2)\n",
        "# ])\n",
        "\n",
        "from tensorflow.keras import layers\n",
        "\n",
        "# Ensure TensorFlow version is 2.16.1\n",
        "print(\"TensorFlow version:\", tf.__version__)\n",
        "\n",
        "# Data augmentation pipeline\n",
        "data_augmentation = tf.keras.Sequential([\n",
        "    layers.RandomFlip(\"horizontal_and_vertical\"),\n",
        "    layers.RandomRotation(0.2),\n",
        "    layers.RandomZoom(0.2),\n",
        "    layers.RandomContrast(0.2)\n",
        "])\n",
        "\n",
        "\n",
        "#Apply the data Augmentation to the training dataset\n",
        "\n",
        "train_ds = train_ds.map(lambda x, y: (data_augmentation(x, training=True), y))\n",
        "\n"
      ]
    },
    {
      "cell_type": "code",
      "execution_count": 20,
      "metadata": {},
      "outputs": [
        {
          "name": "stdout",
          "output_type": "stream",
          "text": [
            "TensorFlow version: 2.16.1\n"
          ]
        }
      ],
      "source": [
        "print(\"TensorFlow version:\", tf.__version__)"
      ]
    },
    {
      "cell_type": "markdown",
      "metadata": {
        "id": "G3i9XTd1DcGJ"
      },
      "source": [
        "# **Step 4: Model Architecture**"
      ]
    },
    {
      "cell_type": "code",
      "execution_count": 21,
      "metadata": {
        "colab": {
          "base_uri": "https://localhost:8080/"
        },
        "id": "CtvIgI22DmUq",
        "outputId": "e35266e8-8484-48d6-966d-29a361d85c7c"
      },
      "outputs": [
        {
          "name": "stdout",
          "output_type": "stream",
          "text": [
            "43\n"
          ]
        },
        {
          "data": {
            "text/html": [
              "<pre style=\"white-space:pre;overflow-x:auto;line-height:normal;font-family:Menlo,'DejaVu Sans Mono',consolas,'Courier New',monospace\"><span style=\"font-weight: bold\">Model: \"sequential_4\"</span>\n",
              "</pre>\n"
            ],
            "text/plain": [
              "\u001b[1mModel: \"sequential_4\"\u001b[0m\n"
            ]
          },
          "metadata": {},
          "output_type": "display_data"
        },
        {
          "data": {
            "text/html": [
              "<pre style=\"white-space:pre;overflow-x:auto;line-height:normal;font-family:Menlo,'DejaVu Sans Mono',consolas,'Courier New',monospace\">┏━━━━━━━━━━━━━━━━━━━━━━━━━━━━━━━━━┳━━━━━━━━━━━━━━━━━━━━━━━━┳━━━━━━━━━━━━━━━┓\n",
              "┃<span style=\"font-weight: bold\"> Layer (type)                    </span>┃<span style=\"font-weight: bold\"> Output Shape           </span>┃<span style=\"font-weight: bold\">       Param # </span>┃\n",
              "┡━━━━━━━━━━━━━━━━━━━━━━━━━━━━━━━━━╇━━━━━━━━━━━━━━━━━━━━━━━━╇━━━━━━━━━━━━━━━┩\n",
              "│ sequential_3 (<span style=\"color: #0087ff; text-decoration-color: #0087ff\">Sequential</span>)       │ (<span style=\"color: #00d7ff; text-decoration-color: #00d7ff\">None</span>, <span style=\"color: #00af00; text-decoration-color: #00af00\">32</span>, <span style=\"color: #00af00; text-decoration-color: #00af00\">32</span>, <span style=\"color: #00af00; text-decoration-color: #00af00\">3</span>)      │             <span style=\"color: #00af00; text-decoration-color: #00af00\">0</span> │\n",
              "├─────────────────────────────────┼────────────────────────┼───────────────┤\n",
              "│ rescaling_2 (<span style=\"color: #0087ff; text-decoration-color: #0087ff\">Rescaling</span>)         │ (<span style=\"color: #00d7ff; text-decoration-color: #00d7ff\">None</span>, <span style=\"color: #00af00; text-decoration-color: #00af00\">32</span>, <span style=\"color: #00af00; text-decoration-color: #00af00\">32</span>, <span style=\"color: #00af00; text-decoration-color: #00af00\">3</span>)      │             <span style=\"color: #00af00; text-decoration-color: #00af00\">0</span> │\n",
              "├─────────────────────────────────┼────────────────────────┼───────────────┤\n",
              "│ conv2d_6 (<span style=\"color: #0087ff; text-decoration-color: #0087ff\">Conv2D</span>)               │ (<span style=\"color: #00d7ff; text-decoration-color: #00d7ff\">None</span>, <span style=\"color: #00af00; text-decoration-color: #00af00\">30</span>, <span style=\"color: #00af00; text-decoration-color: #00af00\">30</span>, <span style=\"color: #00af00; text-decoration-color: #00af00\">32</span>)     │           <span style=\"color: #00af00; text-decoration-color: #00af00\">896</span> │\n",
              "├─────────────────────────────────┼────────────────────────┼───────────────┤\n",
              "│ max_pooling2d_6 (<span style=\"color: #0087ff; text-decoration-color: #0087ff\">MaxPooling2D</span>)  │ (<span style=\"color: #00d7ff; text-decoration-color: #00d7ff\">None</span>, <span style=\"color: #00af00; text-decoration-color: #00af00\">15</span>, <span style=\"color: #00af00; text-decoration-color: #00af00\">15</span>, <span style=\"color: #00af00; text-decoration-color: #00af00\">32</span>)     │             <span style=\"color: #00af00; text-decoration-color: #00af00\">0</span> │\n",
              "├─────────────────────────────────┼────────────────────────┼───────────────┤\n",
              "│ conv2d_7 (<span style=\"color: #0087ff; text-decoration-color: #0087ff\">Conv2D</span>)               │ (<span style=\"color: #00d7ff; text-decoration-color: #00d7ff\">None</span>, <span style=\"color: #00af00; text-decoration-color: #00af00\">13</span>, <span style=\"color: #00af00; text-decoration-color: #00af00\">13</span>, <span style=\"color: #00af00; text-decoration-color: #00af00\">64</span>)     │        <span style=\"color: #00af00; text-decoration-color: #00af00\">18,496</span> │\n",
              "├─────────────────────────────────┼────────────────────────┼───────────────┤\n",
              "│ max_pooling2d_7 (<span style=\"color: #0087ff; text-decoration-color: #0087ff\">MaxPooling2D</span>)  │ (<span style=\"color: #00d7ff; text-decoration-color: #00d7ff\">None</span>, <span style=\"color: #00af00; text-decoration-color: #00af00\">6</span>, <span style=\"color: #00af00; text-decoration-color: #00af00\">6</span>, <span style=\"color: #00af00; text-decoration-color: #00af00\">64</span>)       │             <span style=\"color: #00af00; text-decoration-color: #00af00\">0</span> │\n",
              "├─────────────────────────────────┼────────────────────────┼───────────────┤\n",
              "│ conv2d_8 (<span style=\"color: #0087ff; text-decoration-color: #0087ff\">Conv2D</span>)               │ (<span style=\"color: #00d7ff; text-decoration-color: #00d7ff\">None</span>, <span style=\"color: #00af00; text-decoration-color: #00af00\">4</span>, <span style=\"color: #00af00; text-decoration-color: #00af00\">4</span>, <span style=\"color: #00af00; text-decoration-color: #00af00\">128</span>)      │        <span style=\"color: #00af00; text-decoration-color: #00af00\">73,856</span> │\n",
              "├─────────────────────────────────┼────────────────────────┼───────────────┤\n",
              "│ max_pooling2d_8 (<span style=\"color: #0087ff; text-decoration-color: #0087ff\">MaxPooling2D</span>)  │ (<span style=\"color: #00d7ff; text-decoration-color: #00d7ff\">None</span>, <span style=\"color: #00af00; text-decoration-color: #00af00\">2</span>, <span style=\"color: #00af00; text-decoration-color: #00af00\">2</span>, <span style=\"color: #00af00; text-decoration-color: #00af00\">128</span>)      │             <span style=\"color: #00af00; text-decoration-color: #00af00\">0</span> │\n",
              "├─────────────────────────────────┼────────────────────────┼───────────────┤\n",
              "│ flatten_2 (<span style=\"color: #0087ff; text-decoration-color: #0087ff\">Flatten</span>)             │ (<span style=\"color: #00d7ff; text-decoration-color: #00d7ff\">None</span>, <span style=\"color: #00af00; text-decoration-color: #00af00\">512</span>)            │             <span style=\"color: #00af00; text-decoration-color: #00af00\">0</span> │\n",
              "├─────────────────────────────────┼────────────────────────┼───────────────┤\n",
              "│ dense_6 (<span style=\"color: #0087ff; text-decoration-color: #0087ff\">Dense</span>)                 │ (<span style=\"color: #00d7ff; text-decoration-color: #00d7ff\">None</span>, <span style=\"color: #00af00; text-decoration-color: #00af00\">64</span>)             │        <span style=\"color: #00af00; text-decoration-color: #00af00\">32,832</span> │\n",
              "├─────────────────────────────────┼────────────────────────┼───────────────┤\n",
              "│ dropout_2 (<span style=\"color: #0087ff; text-decoration-color: #0087ff\">Dropout</span>)             │ (<span style=\"color: #00d7ff; text-decoration-color: #00d7ff\">None</span>, <span style=\"color: #00af00; text-decoration-color: #00af00\">64</span>)             │             <span style=\"color: #00af00; text-decoration-color: #00af00\">0</span> │\n",
              "├─────────────────────────────────┼────────────────────────┼───────────────┤\n",
              "│ dense_7 (<span style=\"color: #0087ff; text-decoration-color: #0087ff\">Dense</span>)                 │ (<span style=\"color: #00d7ff; text-decoration-color: #00d7ff\">None</span>, <span style=\"color: #00af00; text-decoration-color: #00af00\">128</span>)            │         <span style=\"color: #00af00; text-decoration-color: #00af00\">8,320</span> │\n",
              "├─────────────────────────────────┼────────────────────────┼───────────────┤\n",
              "│ dense_8 (<span style=\"color: #0087ff; text-decoration-color: #0087ff\">Dense</span>)                 │ (<span style=\"color: #00d7ff; text-decoration-color: #00d7ff\">None</span>, <span style=\"color: #00af00; text-decoration-color: #00af00\">43</span>)             │         <span style=\"color: #00af00; text-decoration-color: #00af00\">5,547</span> │\n",
              "└─────────────────────────────────┴────────────────────────┴───────────────┘\n",
              "</pre>\n"
            ],
            "text/plain": [
              "┏━━━━━━━━━━━━━━━━━━━━━━━━━━━━━━━━━┳━━━━━━━━━━━━━━━━━━━━━━━━┳━━━━━━━━━━━━━━━┓\n",
              "┃\u001b[1m \u001b[0m\u001b[1mLayer (type)                   \u001b[0m\u001b[1m \u001b[0m┃\u001b[1m \u001b[0m\u001b[1mOutput Shape          \u001b[0m\u001b[1m \u001b[0m┃\u001b[1m \u001b[0m\u001b[1m      Param #\u001b[0m\u001b[1m \u001b[0m┃\n",
              "┡━━━━━━━━━━━━━━━━━━━━━━━━━━━━━━━━━╇━━━━━━━━━━━━━━━━━━━━━━━━╇━━━━━━━━━━━━━━━┩\n",
              "│ sequential_3 (\u001b[38;5;33mSequential\u001b[0m)       │ (\u001b[38;5;45mNone\u001b[0m, \u001b[38;5;34m32\u001b[0m, \u001b[38;5;34m32\u001b[0m, \u001b[38;5;34m3\u001b[0m)      │             \u001b[38;5;34m0\u001b[0m │\n",
              "├─────────────────────────────────┼────────────────────────┼───────────────┤\n",
              "│ rescaling_2 (\u001b[38;5;33mRescaling\u001b[0m)         │ (\u001b[38;5;45mNone\u001b[0m, \u001b[38;5;34m32\u001b[0m, \u001b[38;5;34m32\u001b[0m, \u001b[38;5;34m3\u001b[0m)      │             \u001b[38;5;34m0\u001b[0m │\n",
              "├─────────────────────────────────┼────────────────────────┼───────────────┤\n",
              "│ conv2d_6 (\u001b[38;5;33mConv2D\u001b[0m)               │ (\u001b[38;5;45mNone\u001b[0m, \u001b[38;5;34m30\u001b[0m, \u001b[38;5;34m30\u001b[0m, \u001b[38;5;34m32\u001b[0m)     │           \u001b[38;5;34m896\u001b[0m │\n",
              "├─────────────────────────────────┼────────────────────────┼───────────────┤\n",
              "│ max_pooling2d_6 (\u001b[38;5;33mMaxPooling2D\u001b[0m)  │ (\u001b[38;5;45mNone\u001b[0m, \u001b[38;5;34m15\u001b[0m, \u001b[38;5;34m15\u001b[0m, \u001b[38;5;34m32\u001b[0m)     │             \u001b[38;5;34m0\u001b[0m │\n",
              "├─────────────────────────────────┼────────────────────────┼───────────────┤\n",
              "│ conv2d_7 (\u001b[38;5;33mConv2D\u001b[0m)               │ (\u001b[38;5;45mNone\u001b[0m, \u001b[38;5;34m13\u001b[0m, \u001b[38;5;34m13\u001b[0m, \u001b[38;5;34m64\u001b[0m)     │        \u001b[38;5;34m18,496\u001b[0m │\n",
              "├─────────────────────────────────┼────────────────────────┼───────────────┤\n",
              "│ max_pooling2d_7 (\u001b[38;5;33mMaxPooling2D\u001b[0m)  │ (\u001b[38;5;45mNone\u001b[0m, \u001b[38;5;34m6\u001b[0m, \u001b[38;5;34m6\u001b[0m, \u001b[38;5;34m64\u001b[0m)       │             \u001b[38;5;34m0\u001b[0m │\n",
              "├─────────────────────────────────┼────────────────────────┼───────────────┤\n",
              "│ conv2d_8 (\u001b[38;5;33mConv2D\u001b[0m)               │ (\u001b[38;5;45mNone\u001b[0m, \u001b[38;5;34m4\u001b[0m, \u001b[38;5;34m4\u001b[0m, \u001b[38;5;34m128\u001b[0m)      │        \u001b[38;5;34m73,856\u001b[0m │\n",
              "├─────────────────────────────────┼────────────────────────┼───────────────┤\n",
              "│ max_pooling2d_8 (\u001b[38;5;33mMaxPooling2D\u001b[0m)  │ (\u001b[38;5;45mNone\u001b[0m, \u001b[38;5;34m2\u001b[0m, \u001b[38;5;34m2\u001b[0m, \u001b[38;5;34m128\u001b[0m)      │             \u001b[38;5;34m0\u001b[0m │\n",
              "├─────────────────────────────────┼────────────────────────┼───────────────┤\n",
              "│ flatten_2 (\u001b[38;5;33mFlatten\u001b[0m)             │ (\u001b[38;5;45mNone\u001b[0m, \u001b[38;5;34m512\u001b[0m)            │             \u001b[38;5;34m0\u001b[0m │\n",
              "├─────────────────────────────────┼────────────────────────┼───────────────┤\n",
              "│ dense_6 (\u001b[38;5;33mDense\u001b[0m)                 │ (\u001b[38;5;45mNone\u001b[0m, \u001b[38;5;34m64\u001b[0m)             │        \u001b[38;5;34m32,832\u001b[0m │\n",
              "├─────────────────────────────────┼────────────────────────┼───────────────┤\n",
              "│ dropout_2 (\u001b[38;5;33mDropout\u001b[0m)             │ (\u001b[38;5;45mNone\u001b[0m, \u001b[38;5;34m64\u001b[0m)             │             \u001b[38;5;34m0\u001b[0m │\n",
              "├─────────────────────────────────┼────────────────────────┼───────────────┤\n",
              "│ dense_7 (\u001b[38;5;33mDense\u001b[0m)                 │ (\u001b[38;5;45mNone\u001b[0m, \u001b[38;5;34m128\u001b[0m)            │         \u001b[38;5;34m8,320\u001b[0m │\n",
              "├─────────────────────────────────┼────────────────────────┼───────────────┤\n",
              "│ dense_8 (\u001b[38;5;33mDense\u001b[0m)                 │ (\u001b[38;5;45mNone\u001b[0m, \u001b[38;5;34m43\u001b[0m)             │         \u001b[38;5;34m5,547\u001b[0m │\n",
              "└─────────────────────────────────┴────────────────────────┴───────────────┘\n"
            ]
          },
          "metadata": {},
          "output_type": "display_data"
        },
        {
          "data": {
            "text/html": [
              "<pre style=\"white-space:pre;overflow-x:auto;line-height:normal;font-family:Menlo,'DejaVu Sans Mono',consolas,'Courier New',monospace\"><span style=\"font-weight: bold\"> Total params: </span><span style=\"color: #00af00; text-decoration-color: #00af00\">139,947</span> (546.67 KB)\n",
              "</pre>\n"
            ],
            "text/plain": [
              "\u001b[1m Total params: \u001b[0m\u001b[38;5;34m139,947\u001b[0m (546.67 KB)\n"
            ]
          },
          "metadata": {},
          "output_type": "display_data"
        },
        {
          "data": {
            "text/html": [
              "<pre style=\"white-space:pre;overflow-x:auto;line-height:normal;font-family:Menlo,'DejaVu Sans Mono',consolas,'Courier New',monospace\"><span style=\"font-weight: bold\"> Trainable params: </span><span style=\"color: #00af00; text-decoration-color: #00af00\">139,947</span> (546.67 KB)\n",
              "</pre>\n"
            ],
            "text/plain": [
              "\u001b[1m Trainable params: \u001b[0m\u001b[38;5;34m139,947\u001b[0m (546.67 KB)\n"
            ]
          },
          "metadata": {},
          "output_type": "display_data"
        },
        {
          "data": {
            "text/html": [
              "<pre style=\"white-space:pre;overflow-x:auto;line-height:normal;font-family:Menlo,'DejaVu Sans Mono',consolas,'Courier New',monospace\"><span style=\"font-weight: bold\"> Non-trainable params: </span><span style=\"color: #00af00; text-decoration-color: #00af00\">0</span> (0.00 B)\n",
              "</pre>\n"
            ],
            "text/plain": [
              "\u001b[1m Non-trainable params: \u001b[0m\u001b[38;5;34m0\u001b[0m (0.00 B)\n"
            ]
          },
          "metadata": {},
          "output_type": "display_data"
        }
      ],
      "source": [
        "#Building a CNN model using keras\n",
        "\n",
        "from tensorflow.keras.models import Sequential   #Linear stack of layers which allows to build the model layer by layer\n",
        "from tensorflow.keras.layers import Conv2D, MaxPooling2D, Flatten, Dense, Dropout,Rescaling,Input\n",
        "from tensorflow.keras import mixed_precision\n",
        "\n",
        "#Conv2D: This layer creates a convolution kernel that is convolved with the input layer to produce a tensor of outputs.\n",
        "#MaxPooling2D: This layer performs max pooling operations, which reduce the spatial dimensions (height and width) of the input volume.\n",
        "#Flatten: This layer flattens the input, converting it into a 1D array for the next fully connected layers.\n",
        "#Dense: This is a fully connected layer.\n",
        "#Dropout: This layer randomly sets a fraction of input units to 0 at each update during training, which helps prevent overfitting.\n",
        "#Rescaling: This layer rescales the input values by a given factor, typically used to normalize the input data\n",
        "\n",
        "\n",
        "#Enable Mixed Precision\n",
        "mixed_precision.set_global_policy('mixed_float16')\n",
        "\n",
        "#Mixed precision refers to using different numerical precisions in different parts of the model\n",
        "#Float16 (16-bit half-precision): For most of the computations, such as forward and backward passes.\n",
        "#Float32 (32-bit single-precision): For specific operations where higher precision is crucial, like maintaining the model’s weights.\n",
        "\n",
        "\n",
        "model = Sequential([\n",
        "    Input(shape=(32, 32, 3)),\n",
        "    data_augmentation,\n",
        "    Rescaling(1./255),\n",
        "    Conv2D(32, (3, 3), activation='relu'),  #First Conv Layer #32x32 pixels & 3 color channels         32-no of filters   (3,3)- size of the convol kernel\n",
        "    MaxPooling2D(2,2),                      #First Pooling Layer                    #Reduces the spatial dimensions (height and width) of the input volume by a factor of 2.\n",
        "    Conv2D(64, (3, 3), activation='relu'),  #Second Conv Layer\n",
        "    MaxPooling2D(2,2),                      #Second Pooling layer\n",
        "    Conv2D(128, (3, 3), activation='relu'), #Third Conv Layer\n",
        "    MaxPooling2D(2,2),                      #Third Pooling layer\n",
        "    Flatten(),\n",
        "    Dense(64, activation='relu'),           #First Dense layer             #Fully connected layer with 64 units and ReLU activation.\n",
        "    Dropout(0.2),      #Drops 20% of the units randomly to prevent overfitting.\n",
        "    Dense(128, activation='relu'),          #Second Dense Layer\n",
        "    Dense(len(class_names), activation='softmax',dtype='float32')  #output layer           Fully connected layer with a number of units equal to the number of classes (length of class_names) and softmax activation for multi-class classification.\n",
        "])\n",
        "\n",
        "print(len(class_names))\n",
        "# model.build(input_shape=(32, 32, 3))\n",
        "model.summary()          #a summary of the model architecture, showing the layers, their output shapes, and the number of parameters.\n"
      ]
    },
    {
      "cell_type": "markdown",
      "metadata": {
        "id": "IkCugk-b_UgO"
      },
      "source": [
        "**Input Image** (e.g., 32x32x3)   #The input to the CNN, typically a 2D image with 3 color channels (RGB).\n",
        "        |\n",
        "        V\n",
        "+-------------------+\n",
        "| Convolutional Layer|          #Applies convolution operations to the input,\n",
        "                                using filters/kernels to extract features from the input image\n",
        "|  (Conv2D, 32 filters|\n",
        "|   3x3, ReLU)       |\n",
        "+-------------------+\n",
        "        |\n",
        "        V\n",
        "+-------------------+\n",
        "| Max Pooling Layer |           #Reduces the spatial dimensions (width and\n",
        "                                 height) of the feature maps while retaining the most important features.\n",
        "|  (MaxPooling2D,   |\n",
        "|   2x2)            |\n",
        "+-------------------+\n",
        "        |\n",
        "        V\n",
        "+-------------------+\n",
        "| Convolutional Layer|\n",
        "|  (Conv2D, 64 filters|\n",
        "|   3x3, ReLU)       |\n",
        "+-------------------+\n",
        "        |\n",
        "        V\n",
        "+-------------------+\n",
        "| Max Pooling Layer |\n",
        "|  (MaxPooling2D,   |\n",
        "|   2x2)            |\n",
        "+-------------------+\n",
        "        |\n",
        "        V\n",
        "+-------------------+\n",
        "| Convolutional Layer|\n",
        "|  (Conv2D, 128 filters|\n",
        "|   3x3, ReLU)       |\n",
        "+-------------------+\n",
        "        |\n",
        "        V\n",
        "+-------------------+\n",
        "| Max Pooling Layer |\n",
        "|  (MaxPooling2D,   |\n",
        "|   2x2)            |\n",
        "+-------------------+\n",
        "        |\n",
        "        V\n",
        "+-------------------+\n",
        "| Flatten Layer     |        #Flattens the 2D matrix data into a 1D vector,\n",
        "                              preparing it for the fully connected dense layers.\n",
        "+-------------------+\n",
        "        |\n",
        "        V\n",
        "+-------------------+\n",
        "| Dense Layer       |        #Fully connected layer that processes the  \n",
        "                             flattened data to learn higher-level representations\n",
        "|  (Dense, 64 units,|\n",
        "|   ReLU)           |\n",
        "+-------------------+\n",
        "        |\n",
        "        V\n",
        "+-------------------+            # Randomly sets a fraction of input units to 0\n",
        "                                   during training to prevent overfitting.\n",
        "| Dropout Layer     |\n",
        "|  (Dropout, 0.5)   |\n",
        "+-------------------+\n",
        "        |\n",
        "        V\n",
        "+-------------------+\n",
        "| Dense Layer       |\n",
        "|  (Dense, 128 units|\n",
        "|   ReLU)           |\n",
        "+-------------------+\n",
        "        |\n",
        "        V\n",
        "+-------------------+\n",
        "| Output Layer      |          #The final dense layer with softmax activation\n",
        "                                 for multi-class classification, providing class probabilities.\n",
        "|  (Dense, softmax) |\n",
        "+-------------------+\n",
        "        |\n",
        "        V\n",
        "  Class Predictions\n"
      ]
    },
    {
      "cell_type": "markdown",
      "metadata": {
        "id": "cLX7xyMAfU--"
      },
      "source": [
        "# Step 5 : Compile and Train the Model"
      ]
    },
    {
      "cell_type": "code",
      "execution_count": 22,
      "metadata": {
        "colab": {
          "base_uri": "https://localhost:8080/",
          "height": 444
        },
        "id": "OiFyRpI3ffZT",
        "outputId": "07ccae49-1f51-42e7-920b-1aca24cbfe73"
      },
      "outputs": [
        {
          "name": "stdout",
          "output_type": "stream",
          "text": [
            "Epoch 1/50\n",
            "\u001b[1m1829/1829\u001b[0m \u001b[32m━━━━━━━━━━━━━━━━━━━━\u001b[0m\u001b[37m\u001b[0m \u001b[1m0s\u001b[0m 758ms/step - accuracy: 0.1369 - loss: 3.1514\n",
            "Epoch 1: val_loss improved from inf to 1.69288, saving model to best_model.keras\n",
            "\u001b[1m1829/1829\u001b[0m \u001b[32m━━━━━━━━━━━━━━━━━━━━\u001b[0m\u001b[37m\u001b[0m \u001b[1m1627s\u001b[0m 888ms/step - accuracy: 0.1370 - loss: 3.1511 - val_accuracy: 0.4529 - val_loss: 1.6929\n",
            "Epoch 2/50\n",
            "\u001b[1m1829/1829\u001b[0m \u001b[32m━━━━━━━━━━━━━━━━━━━━\u001b[0m\u001b[37m\u001b[0m \u001b[1m0s\u001b[0m 508ms/step - accuracy: 0.4687 - loss: 1.6393\n",
            "Epoch 2: val_loss improved from 1.69288 to 1.25893, saving model to best_model.keras\n",
            "\u001b[1m1829/1829\u001b[0m \u001b[32m━━━━━━━━━━━━━━━━━━━━\u001b[0m\u001b[37m\u001b[0m \u001b[1m938s\u001b[0m 513ms/step - accuracy: 0.4687 - loss: 1.6393 - val_accuracy: 0.5787 - val_loss: 1.2589\n",
            "Epoch 3/50\n",
            "\u001b[1m1829/1829\u001b[0m \u001b[32m━━━━━━━━━━━━━━━━━━━━\u001b[0m\u001b[37m\u001b[0m \u001b[1m0s\u001b[0m 480ms/step - accuracy: 0.5510 - loss: 1.3186\n",
            "Epoch 3: val_loss improved from 1.25893 to 0.97101, saving model to best_model.keras\n",
            "\u001b[1m1829/1829\u001b[0m \u001b[32m━━━━━━━━━━━━━━━━━━━━\u001b[0m\u001b[37m\u001b[0m \u001b[1m884s\u001b[0m 483ms/step - accuracy: 0.5510 - loss: 1.3186 - val_accuracy: 0.6568 - val_loss: 0.9710\n",
            "Epoch 4/50\n",
            "\u001b[1m1829/1829\u001b[0m \u001b[32m━━━━━━━━━━━━━━━━━━━━\u001b[0m\u001b[37m\u001b[0m \u001b[1m0s\u001b[0m 444ms/step - accuracy: 0.6165 - loss: 1.1242\n",
            "Epoch 4: val_loss did not improve from 0.97101\n",
            "\u001b[1m1829/1829\u001b[0m \u001b[32m━━━━━━━━━━━━━━━━━━━━\u001b[0m\u001b[37m\u001b[0m \u001b[1m822s\u001b[0m 449ms/step - accuracy: 0.6165 - loss: 1.1242 - val_accuracy: 0.6293 - val_loss: 1.0631\n",
            "Epoch 5/50\n",
            "\u001b[1m1829/1829\u001b[0m \u001b[32m━━━━━━━━━━━━━━━━━━━━\u001b[0m\u001b[37m\u001b[0m \u001b[1m0s\u001b[0m 1s/step - accuracy: 0.6539 - loss: 1.0159\n",
            "Epoch 5: val_loss improved from 0.97101 to 0.77235, saving model to best_model.keras\n",
            "\u001b[1m1829/1829\u001b[0m \u001b[32m━━━━━━━━━━━━━━━━━━━━\u001b[0m\u001b[37m\u001b[0m \u001b[1m2534s\u001b[0m 1s/step - accuracy: 0.6539 - loss: 1.0159 - val_accuracy: 0.7267 - val_loss: 0.7723\n",
            "Epoch 6/50\n",
            "\u001b[1m1829/1829\u001b[0m \u001b[32m━━━━━━━━━━━━━━━━━━━━\u001b[0m\u001b[37m\u001b[0m \u001b[1m0s\u001b[0m 454ms/step - accuracy: 0.6844 - loss: 0.9229\n",
            "Epoch 6: val_loss improved from 0.77235 to 0.73689, saving model to best_model.keras\n",
            "\u001b[1m1829/1829\u001b[0m \u001b[32m━━━━━━━━━━━━━━━━━━━━\u001b[0m\u001b[37m\u001b[0m \u001b[1m841s\u001b[0m 460ms/step - accuracy: 0.6845 - loss: 0.9229 - val_accuracy: 0.7389 - val_loss: 0.7369\n",
            "Epoch 7/50\n",
            "\u001b[1m1829/1829\u001b[0m \u001b[32m━━━━━━━━━━━━━━━━━━━━\u001b[0m\u001b[37m\u001b[0m \u001b[1m0s\u001b[0m 487ms/step - accuracy: 0.7049 - loss: 0.8557\n",
            "Epoch 7: val_loss improved from 0.73689 to 0.67349, saving model to best_model.keras\n",
            "\u001b[1m1829/1829\u001b[0m \u001b[32m━━━━━━━━━━━━━━━━━━━━\u001b[0m\u001b[37m\u001b[0m \u001b[1m900s\u001b[0m 492ms/step - accuracy: 0.7049 - loss: 0.8557 - val_accuracy: 0.7590 - val_loss: 0.6735\n",
            "Epoch 8/50\n",
            "\u001b[1m1829/1829\u001b[0m \u001b[32m━━━━━━━━━━━━━━━━━━━━\u001b[0m\u001b[37m\u001b[0m \u001b[1m0s\u001b[0m 750ms/step - accuracy: 0.7241 - loss: 0.7965\n",
            "Epoch 8: val_loss improved from 0.67349 to 0.66519, saving model to best_model.keras\n",
            "\u001b[1m1829/1829\u001b[0m \u001b[32m━━━━━━━━━━━━━━━━━━━━\u001b[0m\u001b[37m\u001b[0m \u001b[1m1380s\u001b[0m 754ms/step - accuracy: 0.7241 - loss: 0.7965 - val_accuracy: 0.7613 - val_loss: 0.6652\n",
            "Epoch 9/50\n",
            "\u001b[1m1829/1829\u001b[0m \u001b[32m━━━━━━━━━━━━━━━━━━━━\u001b[0m\u001b[37m\u001b[0m \u001b[1m0s\u001b[0m 516ms/step - accuracy: 0.7399 - loss: 0.7613\n",
            "Epoch 9: val_loss improved from 0.66519 to 0.58775, saving model to best_model.keras\n",
            "\u001b[1m1829/1829\u001b[0m \u001b[32m━━━━━━━━━━━━━━━━━━━━\u001b[0m\u001b[37m\u001b[0m \u001b[1m950s\u001b[0m 519ms/step - accuracy: 0.7399 - loss: 0.7613 - val_accuracy: 0.7872 - val_loss: 0.5877\n",
            "Epoch 10/50\n",
            "\u001b[1m1829/1829\u001b[0m \u001b[32m━━━━━━━━━━━━━━━━━━━━\u001b[0m\u001b[37m\u001b[0m \u001b[1m0s\u001b[0m 409ms/step - accuracy: 0.7559 - loss: 0.7116\n",
            "Epoch 10: val_loss improved from 0.58775 to 0.56395, saving model to best_model.keras\n",
            "\u001b[1m1829/1829\u001b[0m \u001b[32m━━━━━━━━━━━━━━━━━━━━\u001b[0m\u001b[37m\u001b[0m \u001b[1m756s\u001b[0m 413ms/step - accuracy: 0.7559 - loss: 0.7116 - val_accuracy: 0.8042 - val_loss: 0.5639\n",
            "Epoch 11/50\n",
            "\u001b[1m1829/1829\u001b[0m \u001b[32m━━━━━━━━━━━━━━━━━━━━\u001b[0m\u001b[37m\u001b[0m \u001b[1m0s\u001b[0m 478ms/step - accuracy: 0.7682 - loss: 0.6774\n",
            "Epoch 11: val_loss improved from 0.56395 to 0.53420, saving model to best_model.keras\n",
            "\u001b[1m1829/1829\u001b[0m \u001b[32m━━━━━━━━━━━━━━━━━━━━\u001b[0m\u001b[37m\u001b[0m \u001b[1m881s\u001b[0m 482ms/step - accuracy: 0.7682 - loss: 0.6774 - val_accuracy: 0.8095 - val_loss: 0.5342\n",
            "Epoch 12/50\n",
            "\u001b[1m1829/1829\u001b[0m \u001b[32m━━━━━━━━━━━━━━━━━━━━\u001b[0m\u001b[37m\u001b[0m \u001b[1m0s\u001b[0m 513ms/step - accuracy: 0.7771 - loss: 0.6499\n",
            "Epoch 12: val_loss improved from 0.53420 to 0.50190, saving model to best_model.keras\n",
            "\u001b[1m1829/1829\u001b[0m \u001b[32m━━━━━━━━━━━━━━━━━━━━\u001b[0m\u001b[37m\u001b[0m \u001b[1m946s\u001b[0m 517ms/step - accuracy: 0.7771 - loss: 0.6499 - val_accuracy: 0.8279 - val_loss: 0.5019\n",
            "Epoch 13/50\n",
            "\u001b[1m1829/1829\u001b[0m \u001b[32m━━━━━━━━━━━━━━━━━━━━\u001b[0m\u001b[37m\u001b[0m \u001b[1m0s\u001b[0m 463ms/step - accuracy: 0.7923 - loss: 0.6150\n",
            "Epoch 13: val_loss did not improve from 0.50190\n",
            "\u001b[1m1829/1829\u001b[0m \u001b[32m━━━━━━━━━━━━━━━━━━━━\u001b[0m\u001b[37m\u001b[0m \u001b[1m853s\u001b[0m 466ms/step - accuracy: 0.7923 - loss: 0.6150 - val_accuracy: 0.8115 - val_loss: 0.5448\n",
            "Epoch 14/50\n",
            "\u001b[1m1829/1829\u001b[0m \u001b[32m━━━━━━━━━━━━━━━━━━━━\u001b[0m\u001b[37m\u001b[0m \u001b[1m0s\u001b[0m 458ms/step - accuracy: 0.7969 - loss: 0.6025\n",
            "Epoch 14: val_loss did not improve from 0.50190\n",
            "\u001b[1m1829/1829\u001b[0m \u001b[32m━━━━━━━━━━━━━━━━━━━━\u001b[0m\u001b[37m\u001b[0m \u001b[1m848s\u001b[0m 464ms/step - accuracy: 0.7969 - loss: 0.6025 - val_accuracy: 0.8106 - val_loss: 0.5538\n",
            "Epoch 15/50\n",
            "\u001b[1m1829/1829\u001b[0m \u001b[32m━━━━━━━━━━━━━━━━━━━━\u001b[0m\u001b[37m\u001b[0m \u001b[1m0s\u001b[0m 627ms/step - accuracy: 0.8028 - loss: 0.5855\n",
            "Epoch 15: val_loss improved from 0.50190 to 0.46192, saving model to best_model.keras\n",
            "\u001b[1m1829/1829\u001b[0m \u001b[32m━━━━━━━━━━━━━━━━━━━━\u001b[0m\u001b[37m\u001b[0m \u001b[1m1158s\u001b[0m 633ms/step - accuracy: 0.8028 - loss: 0.5855 - val_accuracy: 0.8417 - val_loss: 0.4619\n",
            "Epoch 16/50\n",
            "\u001b[1m1829/1829\u001b[0m \u001b[32m━━━━━━━━━━━━━━━━━━━━\u001b[0m\u001b[37m\u001b[0m \u001b[1m0s\u001b[0m 612ms/step - accuracy: 0.8107 - loss: 0.5649\n",
            "Epoch 16: val_loss did not improve from 0.46192\n",
            "\u001b[1m1829/1829\u001b[0m \u001b[32m━━━━━━━━━━━━━━━━━━━━\u001b[0m\u001b[37m\u001b[0m \u001b[1m1130s\u001b[0m 617ms/step - accuracy: 0.8107 - loss: 0.5649 - val_accuracy: 0.8291 - val_loss: 0.5076\n",
            "Epoch 17/50\n",
            "\u001b[1m1829/1829\u001b[0m \u001b[32m━━━━━━━━━━━━━━━━━━━━\u001b[0m\u001b[37m\u001b[0m \u001b[1m0s\u001b[0m 566ms/step - accuracy: 0.8138 - loss: 0.5506\n",
            "Epoch 17: val_loss did not improve from 0.46192\n",
            "\u001b[1m1829/1829\u001b[0m \u001b[32m━━━━━━━━━━━━━━━━━━━━\u001b[0m\u001b[37m\u001b[0m \u001b[1m1045s\u001b[0m 571ms/step - accuracy: 0.8138 - loss: 0.5506 - val_accuracy: 0.8402 - val_loss: 0.4843\n",
            "Epoch 18/50\n",
            "\u001b[1m1829/1829\u001b[0m \u001b[32m━━━━━━━━━━━━━━━━━━━━\u001b[0m\u001b[37m\u001b[0m \u001b[1m0s\u001b[0m 570ms/step - accuracy: 0.8195 - loss: 0.5343\n",
            "Epoch 18: val_loss improved from 0.46192 to 0.43796, saving model to best_model.keras\n",
            "\u001b[1m1829/1829\u001b[0m \u001b[32m━━━━━━━━━━━━━━━━━━━━\u001b[0m\u001b[37m\u001b[0m \u001b[1m1052s\u001b[0m 575ms/step - accuracy: 0.8195 - loss: 0.5343 - val_accuracy: 0.8534 - val_loss: 0.4380\n",
            "Epoch 19/50\n",
            "\u001b[1m1829/1829\u001b[0m \u001b[32m━━━━━━━━━━━━━━━━━━━━\u001b[0m\u001b[37m\u001b[0m \u001b[1m0s\u001b[0m 596ms/step - accuracy: 0.8235 - loss: 0.5224\n",
            "Epoch 19: val_loss improved from 0.43796 to 0.42703, saving model to best_model.keras\n",
            "\u001b[1m1829/1829\u001b[0m \u001b[32m━━━━━━━━━━━━━━━━━━━━\u001b[0m\u001b[37m\u001b[0m \u001b[1m1101s\u001b[0m 602ms/step - accuracy: 0.8235 - loss: 0.5224 - val_accuracy: 0.8542 - val_loss: 0.4270\n",
            "Epoch 20/50\n",
            "\u001b[1m1829/1829\u001b[0m \u001b[32m━━━━━━━━━━━━━━━━━━━━\u001b[0m\u001b[37m\u001b[0m \u001b[1m0s\u001b[0m 525ms/step - accuracy: 0.8312 - loss: 0.5051\n",
            "Epoch 20: val_loss improved from 0.42703 to 0.40048, saving model to best_model.keras\n",
            "\u001b[1m1829/1829\u001b[0m \u001b[32m━━━━━━━━━━━━━━━━━━━━\u001b[0m\u001b[37m\u001b[0m \u001b[1m968s\u001b[0m 529ms/step - accuracy: 0.8312 - loss: 0.5051 - val_accuracy: 0.8655 - val_loss: 0.4005\n",
            "Epoch 21/50\n",
            "\u001b[1m1829/1829\u001b[0m \u001b[32m━━━━━━━━━━━━━━━━━━━━\u001b[0m\u001b[37m\u001b[0m \u001b[1m0s\u001b[0m 463ms/step - accuracy: 0.8301 - loss: 0.5058\n",
            "Epoch 21: val_loss did not improve from 0.40048\n",
            "\u001b[1m1829/1829\u001b[0m \u001b[32m━━━━━━━━━━━━━━━━━━━━\u001b[0m\u001b[37m\u001b[0m \u001b[1m855s\u001b[0m 467ms/step - accuracy: 0.8301 - loss: 0.5058 - val_accuracy: 0.8308 - val_loss: 0.4995\n",
            "Epoch 22/50\n",
            "\u001b[1m1829/1829\u001b[0m \u001b[32m━━━━━━━━━━━━━━━━━━━━\u001b[0m\u001b[37m\u001b[0m \u001b[1m0s\u001b[0m 572ms/step - accuracy: 0.8391 - loss: 0.4813\n",
            "Epoch 22: val_loss did not improve from 0.40048\n",
            "\u001b[1m1829/1829\u001b[0m \u001b[32m━━━━━━━━━━━━━━━━━━━━\u001b[0m\u001b[37m\u001b[0m \u001b[1m1056s\u001b[0m 578ms/step - accuracy: 0.8391 - loss: 0.4813 - val_accuracy: 0.8560 - val_loss: 0.4481\n",
            "Epoch 23/50\n",
            "\u001b[1m1829/1829\u001b[0m \u001b[32m━━━━━━━━━━━━━━━━━━━━\u001b[0m\u001b[37m\u001b[0m \u001b[1m0s\u001b[0m 450ms/step - accuracy: 0.8444 - loss: 0.4690\n",
            "Epoch 23: val_loss did not improve from 0.40048\n",
            "\u001b[1m1829/1829\u001b[0m \u001b[32m━━━━━━━━━━━━━━━━━━━━\u001b[0m\u001b[37m\u001b[0m \u001b[1m833s\u001b[0m 455ms/step - accuracy: 0.8444 - loss: 0.4690 - val_accuracy: 0.8521 - val_loss: 0.4523\n"
          ]
        }
      ],
      "source": [
        "#Model Compilation\n",
        "\n",
        "from tensorflow.keras.callbacks import EarlyStopping, ModelCheckpoint\n",
        "\n",
        "\n",
        "model.compile(\n",
        "    optimizer='adam',\n",
        "    loss='sparse_categorical_crossentropy',\n",
        "    metrics=['accuracy']\n",
        ")\n",
        "\n",
        "#Define callbacks\n",
        "# Set callback functions to early stop training\n",
        "callbacks = [\n",
        "    tf.keras.callbacks.EarlyStopping(monitor='val_loss', patience=3),\n",
        "    ModelCheckpoint(filepath='best_model.keras', monitor='val_loss', save_best_only=True, verbose=1)\n",
        "]\n",
        "\n",
        "#EarlyStopping: Monitors the validation loss (val_loss) and stops training if it doesn't improve for 3 consecutive epochs (patience=3).\n",
        "#ModelCheckpoint: Saves the model to the file best_model.h5 whenever the validation loss improves. The save_best_only=True argument ensures that only the best model (with the lowest validation loss) is saved.\n",
        "\n",
        "#Train the model\n",
        "history = model.fit(\n",
        "    train_ds,\n",
        "    validation_data=val_ds,\n",
        "    epochs=50,\n",
        "    callbacks=callbacks\n",
        ")\n",
        "\n",
        "\n"
      ]
    },
    {
      "cell_type": "markdown",
      "metadata": {
        "id": "J30S-imz2q5D"
      },
      "source": [
        "# Step 6: Model Evaluation"
      ]
    },
    {
      "cell_type": "code",
      "execution_count": 23,
      "metadata": {
        "id": "eaUilN7M3cD1"
      },
      "outputs": [
        {
          "data": {
            "image/png": "[encoded data removed]",
            "text/plain": [
              "<Figure size 640x480 with 1 Axes>"
            ]
          },
          "metadata": {},
          "output_type": "display_data"
        },
        {
          "data": {
            "image/png": "[encoded data removed]",
            "text/plain": [
              "<Figure size 640x480 with 1 Axes>"
            ]
          },
          "metadata": {},
          "output_type": "display_data"
        },
        {
          "name": "stdout",
          "output_type": "stream",
          "text": [
            "\u001b[1m229/229\u001b[0m \u001b[32m━━━━━━━━━━━━━━━━━━━━\u001b[0m\u001b[37m\u001b[0m \u001b[1m12s\u001b[0m 54ms/step - accuracy: 0.8472 - loss: 0.4598\n",
            "Validation accuracy: 0.8520544171333313\n"
          ]
        }
      ],
      "source": [
        "#After training, evaluate the model's performance and visualize the training process.\n",
        "\n",
        "# Plot the training history\n",
        "# Plot loss\n",
        "plt.plot(history.history['loss'], label='loss')\n",
        "plt.plot(history.history['val_loss'], label='val_loss')\n",
        "plt.legend(loc='upper right')\n",
        "plt.title('Loss')\n",
        "plt.xlabel('Epochs')\n",
        "plt.ylabel('Loss')\n",
        "plt.show()\n",
        "\n",
        "# Plot accuracy\n",
        "plt.plot(history.history['accuracy'], label='accuracy')\n",
        "plt.plot(history.history['val_accuracy'], label='val_accuracy')\n",
        "plt.legend(loc='upper right')\n",
        "plt.title('Accuracy')\n",
        "plt.xlabel('Epochs')\n",
        "plt.ylabel('Accuracy')\n",
        "plt.show()\n",
        "\n",
        "#Evaluate the model on validation data\n",
        "\n",
        "val_loss, val_accuracy = model.evaluate(val_ds)\n",
        "print(f'Validation accuracy: {val_accuracy}')\n",
        "\n"
      ]
    },
    {
      "cell_type": "code",
      "execution_count": 32,
      "metadata": {},
      "outputs": [
        {
          "data": {
            "text/html": [
              "<pre style=\"white-space:pre;overflow-x:auto;line-height:normal;font-family:Menlo,'DejaVu Sans Mono',consolas,'Courier New',monospace\"><span style=\"font-weight: bold\">Model: \"sequential_4\"</span>\n",
              "</pre>\n"
            ],
            "text/plain": [
              "\u001b[1mModel: \"sequential_4\"\u001b[0m\n"
            ]
          },
          "metadata": {},
          "output_type": "display_data"
        },
        {
          "data": {
            "text/html": [
              "<pre style=\"white-space:pre;overflow-x:auto;line-height:normal;font-family:Menlo,'DejaVu Sans Mono',consolas,'Courier New',monospace\">┏━━━━━━━━━━━━━━━━━━━━━━━━━━━━━━━━━┳━━━━━━━━━━━━━━━━━━━━━━━━┳━━━━━━━━━━━━━━━┓\n",
              "┃<span style=\"font-weight: bold\"> Layer (type)                    </span>┃<span style=\"font-weight: bold\"> Output Shape           </span>┃<span style=\"font-weight: bold\">       Param # </span>┃\n",
              "┡━━━━━━━━━━━━━━━━━━━━━━━━━━━━━━━━━╇━━━━━━━━━━━━━━━━━━━━━━━━╇━━━━━━━━━━━━━━━┩\n",
              "│ sequential_3 (<span style=\"color: #0087ff; text-decoration-color: #0087ff\">Sequential</span>)       │ (<span style=\"color: #00d7ff; text-decoration-color: #00d7ff\">None</span>, <span style=\"color: #00af00; text-decoration-color: #00af00\">32</span>, <span style=\"color: #00af00; text-decoration-color: #00af00\">32</span>, <span style=\"color: #00af00; text-decoration-color: #00af00\">3</span>)      │             <span style=\"color: #00af00; text-decoration-color: #00af00\">0</span> │\n",
              "├─────────────────────────────────┼────────────────────────┼───────────────┤\n",
              "│ rescaling_2 (<span style=\"color: #0087ff; text-decoration-color: #0087ff\">Rescaling</span>)         │ (<span style=\"color: #00d7ff; text-decoration-color: #00d7ff\">None</span>, <span style=\"color: #00af00; text-decoration-color: #00af00\">32</span>, <span style=\"color: #00af00; text-decoration-color: #00af00\">32</span>, <span style=\"color: #00af00; text-decoration-color: #00af00\">3</span>)      │             <span style=\"color: #00af00; text-decoration-color: #00af00\">0</span> │\n",
              "├─────────────────────────────────┼────────────────────────┼───────────────┤\n",
              "│ conv2d_6 (<span style=\"color: #0087ff; text-decoration-color: #0087ff\">Conv2D</span>)               │ (<span style=\"color: #00d7ff; text-decoration-color: #00d7ff\">None</span>, <span style=\"color: #00af00; text-decoration-color: #00af00\">30</span>, <span style=\"color: #00af00; text-decoration-color: #00af00\">30</span>, <span style=\"color: #00af00; text-decoration-color: #00af00\">32</span>)     │           <span style=\"color: #00af00; text-decoration-color: #00af00\">896</span> │\n",
              "├─────────────────────────────────┼────────────────────────┼───────────────┤\n",
              "│ max_pooling2d_6 (<span style=\"color: #0087ff; text-decoration-color: #0087ff\">MaxPooling2D</span>)  │ (<span style=\"color: #00d7ff; text-decoration-color: #00d7ff\">None</span>, <span style=\"color: #00af00; text-decoration-color: #00af00\">15</span>, <span style=\"color: #00af00; text-decoration-color: #00af00\">15</span>, <span style=\"color: #00af00; text-decoration-color: #00af00\">32</span>)     │             <span style=\"color: #00af00; text-decoration-color: #00af00\">0</span> │\n",
              "├─────────────────────────────────┼────────────────────────┼───────────────┤\n",
              "│ conv2d_7 (<span style=\"color: #0087ff; text-decoration-color: #0087ff\">Conv2D</span>)               │ (<span style=\"color: #00d7ff; text-decoration-color: #00d7ff\">None</span>, <span style=\"color: #00af00; text-decoration-color: #00af00\">13</span>, <span style=\"color: #00af00; text-decoration-color: #00af00\">13</span>, <span style=\"color: #00af00; text-decoration-color: #00af00\">64</span>)     │        <span style=\"color: #00af00; text-decoration-color: #00af00\">18,496</span> │\n",
              "├─────────────────────────────────┼────────────────────────┼───────────────┤\n",
              "│ max_pooling2d_7 (<span style=\"color: #0087ff; text-decoration-color: #0087ff\">MaxPooling2D</span>)  │ (<span style=\"color: #00d7ff; text-decoration-color: #00d7ff\">None</span>, <span style=\"color: #00af00; text-decoration-color: #00af00\">6</span>, <span style=\"color: #00af00; text-decoration-color: #00af00\">6</span>, <span style=\"color: #00af00; text-decoration-color: #00af00\">64</span>)       │             <span style=\"color: #00af00; text-decoration-color: #00af00\">0</span> │\n",
              "├─────────────────────────────────┼────────────────────────┼───────────────┤\n",
              "│ conv2d_8 (<span style=\"color: #0087ff; text-decoration-color: #0087ff\">Conv2D</span>)               │ (<span style=\"color: #00d7ff; text-decoration-color: #00d7ff\">None</span>, <span style=\"color: #00af00; text-decoration-color: #00af00\">4</span>, <span style=\"color: #00af00; text-decoration-color: #00af00\">4</span>, <span style=\"color: #00af00; text-decoration-color: #00af00\">128</span>)      │        <span style=\"color: #00af00; text-decoration-color: #00af00\">73,856</span> │\n",
              "├─────────────────────────────────┼────────────────────────┼───────────────┤\n",
              "│ max_pooling2d_8 (<span style=\"color: #0087ff; text-decoration-color: #0087ff\">MaxPooling2D</span>)  │ (<span style=\"color: #00d7ff; text-decoration-color: #00d7ff\">None</span>, <span style=\"color: #00af00; text-decoration-color: #00af00\">2</span>, <span style=\"color: #00af00; text-decoration-color: #00af00\">2</span>, <span style=\"color: #00af00; text-decoration-color: #00af00\">128</span>)      │             <span style=\"color: #00af00; text-decoration-color: #00af00\">0</span> │\n",
              "├─────────────────────────────────┼────────────────────────┼───────────────┤\n",
              "│ flatten_2 (<span style=\"color: #0087ff; text-decoration-color: #0087ff\">Flatten</span>)             │ (<span style=\"color: #00d7ff; text-decoration-color: #00d7ff\">None</span>, <span style=\"color: #00af00; text-decoration-color: #00af00\">512</span>)            │             <span style=\"color: #00af00; text-decoration-color: #00af00\">0</span> │\n",
              "├─────────────────────────────────┼────────────────────────┼───────────────┤\n",
              "│ dense_6 (<span style=\"color: #0087ff; text-decoration-color: #0087ff\">Dense</span>)                 │ (<span style=\"color: #00d7ff; text-decoration-color: #00d7ff\">None</span>, <span style=\"color: #00af00; text-decoration-color: #00af00\">64</span>)             │        <span style=\"color: #00af00; text-decoration-color: #00af00\">32,832</span> │\n",
              "├─────────────────────────────────┼────────────────────────┼───────────────┤\n",
              "│ dropout_2 (<span style=\"color: #0087ff; text-decoration-color: #0087ff\">Dropout</span>)             │ (<span style=\"color: #00d7ff; text-decoration-color: #00d7ff\">None</span>, <span style=\"color: #00af00; text-decoration-color: #00af00\">64</span>)             │             <span style=\"color: #00af00; text-decoration-color: #00af00\">0</span> │\n",
              "├─────────────────────────────────┼────────────────────────┼───────────────┤\n",
              "│ dense_7 (<span style=\"color: #0087ff; text-decoration-color: #0087ff\">Dense</span>)                 │ (<span style=\"color: #00d7ff; text-decoration-color: #00d7ff\">None</span>, <span style=\"color: #00af00; text-decoration-color: #00af00\">128</span>)            │         <span style=\"color: #00af00; text-decoration-color: #00af00\">8,320</span> │\n",
              "├─────────────────────────────────┼────────────────────────┼───────────────┤\n",
              "│ dense_8 (<span style=\"color: #0087ff; text-decoration-color: #0087ff\">Dense</span>)                 │ (<span style=\"color: #00d7ff; text-decoration-color: #00d7ff\">None</span>, <span style=\"color: #00af00; text-decoration-color: #00af00\">43</span>)             │         <span style=\"color: #00af00; text-decoration-color: #00af00\">5,547</span> │\n",
              "└─────────────────────────────────┴────────────────────────┴───────────────┘\n",
              "</pre>\n"
            ],
            "text/plain": [
              "┏━━━━━━━━━━━━━━━━━━━━━━━━━━━━━━━━━┳━━━━━━━━━━━━━━━━━━━━━━━━┳━━━━━━━━━━━━━━━┓\n",
              "┃\u001b[1m \u001b[0m\u001b[1mLayer (type)                   \u001b[0m\u001b[1m \u001b[0m┃\u001b[1m \u001b[0m\u001b[1mOutput Shape          \u001b[0m\u001b[1m \u001b[0m┃\u001b[1m \u001b[0m\u001b[1m      Param #\u001b[0m\u001b[1m \u001b[0m┃\n",
              "┡━━━━━━━━━━━━━━━━━━━━━━━━━━━━━━━━━╇━━━━━━━━━━━━━━━━━━━━━━━━╇━━━━━━━━━━━━━━━┩\n",
              "│ sequential_3 (\u001b[38;5;33mSequential\u001b[0m)       │ (\u001b[38;5;45mNone\u001b[0m, \u001b[38;5;34m32\u001b[0m, \u001b[38;5;34m32\u001b[0m, \u001b[38;5;34m3\u001b[0m)      │             \u001b[38;5;34m0\u001b[0m │\n",
              "├─────────────────────────────────┼────────────────────────┼───────────────┤\n",
              "│ rescaling_2 (\u001b[38;5;33mRescaling\u001b[0m)         │ (\u001b[38;5;45mNone\u001b[0m, \u001b[38;5;34m32\u001b[0m, \u001b[38;5;34m32\u001b[0m, \u001b[38;5;34m3\u001b[0m)      │             \u001b[38;5;34m0\u001b[0m │\n",
              "├─────────────────────────────────┼────────────────────────┼───────────────┤\n",
              "│ conv2d_6 (\u001b[38;5;33mConv2D\u001b[0m)               │ (\u001b[38;5;45mNone\u001b[0m, \u001b[38;5;34m30\u001b[0m, \u001b[38;5;34m30\u001b[0m, \u001b[38;5;34m32\u001b[0m)     │           \u001b[38;5;34m896\u001b[0m │\n",
              "├─────────────────────────────────┼────────────────────────┼───────────────┤\n",
              "│ max_pooling2d_6 (\u001b[38;5;33mMaxPooling2D\u001b[0m)  │ (\u001b[38;5;45mNone\u001b[0m, \u001b[38;5;34m15\u001b[0m, \u001b[38;5;34m15\u001b[0m, \u001b[38;5;34m32\u001b[0m)     │             \u001b[38;5;34m0\u001b[0m │\n",
              "├─────────────────────────────────┼────────────────────────┼───────────────┤\n",
              "│ conv2d_7 (\u001b[38;5;33mConv2D\u001b[0m)               │ (\u001b[38;5;45mNone\u001b[0m, \u001b[38;5;34m13\u001b[0m, \u001b[38;5;34m13\u001b[0m, \u001b[38;5;34m64\u001b[0m)     │        \u001b[38;5;34m18,496\u001b[0m │\n",
              "├─────────────────────────────────┼────────────────────────┼───────────────┤\n",
              "│ max_pooling2d_7 (\u001b[38;5;33mMaxPooling2D\u001b[0m)  │ (\u001b[38;5;45mNone\u001b[0m, \u001b[38;5;34m6\u001b[0m, \u001b[38;5;34m6\u001b[0m, \u001b[38;5;34m64\u001b[0m)       │             \u001b[38;5;34m0\u001b[0m │\n",
              "├─────────────────────────────────┼────────────────────────┼───────────────┤\n",
              "│ conv2d_8 (\u001b[38;5;33mConv2D\u001b[0m)               │ (\u001b[38;5;45mNone\u001b[0m, \u001b[38;5;34m4\u001b[0m, \u001b[38;5;34m4\u001b[0m, \u001b[38;5;34m128\u001b[0m)      │        \u001b[38;5;34m73,856\u001b[0m │\n",
              "├─────────────────────────────────┼────────────────────────┼───────────────┤\n",
              "│ max_pooling2d_8 (\u001b[38;5;33mMaxPooling2D\u001b[0m)  │ (\u001b[38;5;45mNone\u001b[0m, \u001b[38;5;34m2\u001b[0m, \u001b[38;5;34m2\u001b[0m, \u001b[38;5;34m128\u001b[0m)      │             \u001b[38;5;34m0\u001b[0m │\n",
              "├─────────────────────────────────┼────────────────────────┼───────────────┤\n",
              "│ flatten_2 (\u001b[38;5;33mFlatten\u001b[0m)             │ (\u001b[38;5;45mNone\u001b[0m, \u001b[38;5;34m512\u001b[0m)            │             \u001b[38;5;34m0\u001b[0m │\n",
              "├─────────────────────────────────┼────────────────────────┼───────────────┤\n",
              "│ dense_6 (\u001b[38;5;33mDense\u001b[0m)                 │ (\u001b[38;5;45mNone\u001b[0m, \u001b[38;5;34m64\u001b[0m)             │        \u001b[38;5;34m32,832\u001b[0m │\n",
              "├─────────────────────────────────┼────────────────────────┼───────────────┤\n",
              "│ dropout_2 (\u001b[38;5;33mDropout\u001b[0m)             │ (\u001b[38;5;45mNone\u001b[0m, \u001b[38;5;34m64\u001b[0m)             │             \u001b[38;5;34m0\u001b[0m │\n",
              "├─────────────────────────────────┼────────────────────────┼───────────────┤\n",
              "│ dense_7 (\u001b[38;5;33mDense\u001b[0m)                 │ (\u001b[38;5;45mNone\u001b[0m, \u001b[38;5;34m128\u001b[0m)            │         \u001b[38;5;34m8,320\u001b[0m │\n",
              "├─────────────────────────────────┼────────────────────────┼───────────────┤\n",
              "│ dense_8 (\u001b[38;5;33mDense\u001b[0m)                 │ (\u001b[38;5;45mNone\u001b[0m, \u001b[38;5;34m43\u001b[0m)             │         \u001b[38;5;34m5,547\u001b[0m │\n",
              "└─────────────────────────────────┴────────────────────────┴───────────────┘\n"
            ]
          },
          "metadata": {},
          "output_type": "display_data"
        },
        {
          "data": {
            "text/html": [
              "<pre style=\"white-space:pre;overflow-x:auto;line-height:normal;font-family:Menlo,'DejaVu Sans Mono',consolas,'Courier New',monospace\"><span style=\"font-weight: bold\"> Total params: </span><span style=\"color: #00af00; text-decoration-color: #00af00\">419,847</span> (1.60 MB)\n",
              "</pre>\n"
            ],
            "text/plain": [
              "\u001b[1m Total params: \u001b[0m\u001b[38;5;34m419,847\u001b[0m (1.60 MB)\n"
            ]
          },
          "metadata": {},
          "output_type": "display_data"
        },
        {
          "data": {
            "text/html": [
              "<pre style=\"white-space:pre;overflow-x:auto;line-height:normal;font-family:Menlo,'DejaVu Sans Mono',consolas,'Courier New',monospace\"><span style=\"font-weight: bold\"> Trainable params: </span><span style=\"color: #00af00; text-decoration-color: #00af00\">139,947</span> (546.67 KB)\n",
              "</pre>\n"
            ],
            "text/plain": [
              "\u001b[1m Trainable params: \u001b[0m\u001b[38;5;34m139,947\u001b[0m (546.67 KB)\n"
            ]
          },
          "metadata": {},
          "output_type": "display_data"
        },
        {
          "data": {
            "text/html": [
              "<pre style=\"white-space:pre;overflow-x:auto;line-height:normal;font-family:Menlo,'DejaVu Sans Mono',consolas,'Courier New',monospace\"><span style=\"font-weight: bold\"> Non-trainable params: </span><span style=\"color: #00af00; text-decoration-color: #00af00\">0</span> (0.00 B)\n",
              "</pre>\n"
            ],
            "text/plain": [
              "\u001b[1m Non-trainable params: \u001b[0m\u001b[38;5;34m0\u001b[0m (0.00 B)\n"
            ]
          },
          "metadata": {},
          "output_type": "display_data"
        },
        {
          "data": {
            "text/html": [
              "<pre style=\"white-space:pre;overflow-x:auto;line-height:normal;font-family:Menlo,'DejaVu Sans Mono',consolas,'Courier New',monospace\"><span style=\"font-weight: bold\"> Optimizer params: </span><span style=\"color: #00af00; text-decoration-color: #00af00\">279,900</span> (1.07 MB)\n",
              "</pre>\n"
            ],
            "text/plain": [
              "\u001b[1m Optimizer params: \u001b[0m\u001b[38;5;34m279,900\u001b[0m (1.07 MB)\n"
            ]
          },
          "metadata": {},
          "output_type": "display_data"
        },
        {
          "name": "stdout",
          "output_type": "stream",
          "text": [
            "Class names: ['Speed limit (20km/h)', 'Speed limit (30km/h)', 'Speed limit (50km/h)', 'Speed limit (60km/h)', 'Speed limit (70km/h)', 'Speed limit (80km/h)', 'End of speed limit (80km/h)', 'Speed limit (100km/h)', 'Speed limit (120km/h)', 'No passing', 'No passing for vechiles over 3.5 metric tons', 'Right-of-way at the next intersection', 'Priority road', 'Yield', 'Stop', 'No vechiles', 'Vechiles over 3.5 metric tons prohibited', 'No entry', 'General caution', 'Dangerous curve to the left', 'Dangerous curve to the right', 'Double curve', 'Bumpy road', 'Slippery road', 'Road narrows on the right', 'Road work', 'Traffic signals', 'Pedestrians', 'Children crossing', 'Bicycles crossing', 'Beware of ice/snow', 'Wild animals crossing', 'End of all speed and passing limits', 'Turn right ahead', 'Turn left ahead', 'Ahead only', 'Go straight or right', 'Go straight or left', 'Keep right', 'Keep left', 'Roundabout mandatory', 'End of no passing', 'End of no passing by vechiles over 3.5 metric tons']\n"
          ]
        }
      ],
      "source": [
        "import tensorflow as tf\n",
        "\n",
        "# Load the class names from labels.csv\n",
        "labels_path = 'D://drive/Training Data/labels.csv'  # Update this path\n",
        "labels_df = pd.read_csv(labels_path)\n",
        "class_names = labels_df['Name'].tolist()\n",
        "\n",
        "\n",
        "#Load the Saved Model\n",
        "model_path = 'C://Users/hp/Downloads/best_model.keras'  # Update this path to the actual location of best_model.keras\n",
        "model = tf.keras.models.load_model(model_path)\n",
        "\n",
        "# Check if the model is loaded correctly\n",
        "model.summary()\n",
        "\n",
        "# Ensure class names are correctly defined\n",
        "print(\"Class names:\", class_names)\n"
      ]
    },
    {
      "cell_type": "code",
      "execution_count": 34,
      "metadata": {},
      "outputs": [
        {
          "name": "stdout",
          "output_type": "stream",
          "text": [
            "\u001b[1m1/1\u001b[0m \u001b[32m━━━━━━━━━━━━━━━━━━━━\u001b[0m\u001b[37m\u001b[0m \u001b[1m0s\u001b[0m 28ms/step\n",
            "\u001b[1m1/1\u001b[0m \u001b[32m━━━━━━━━━━━━━━━━━━━━\u001b[0m\u001b[37m\u001b[0m \u001b[1m0s\u001b[0m 32ms/step\n",
            "{'D://drive/eval/slippery.jpg': 'Road work', 'D://drive/eval/stop.png': 'End of all speed and passing limits'}\n"
          ]
        }
      ],
      "source": [
        "from tensorflow.keras.preprocessing import image\n",
        "import numpy as np\n",
        "\n",
        "# Define helper function to preprocess the image\n",
        "def load_and_preprocess_image(img_path, img_size=(32, 32)):\n",
        "    img = image.load_img(img_path, target_size=img_size)\n",
        "    img_array = image.img_to_array(img)\n",
        "    img_array = np.expand_dims(img_array, axis=0)  # Add batch dimension\n",
        "    img_array = img_array / 255.0  # Rescale to match the Rescaling layer in the model\n",
        "    return img_array\n",
        "\n",
        "# Define function to predict the class of an image\n",
        "def predict_image(model, img_path, class_names):\n",
        "    img_array = load_and_preprocess_image(img_path)\n",
        "    predictions = model.predict(img_array)\n",
        "    predicted_class = np.argmax(predictions, axis=1)\n",
        "    predicted_class_name = class_names[predicted_class[0]]\n",
        "    return predicted_class_name\n",
        "\n",
        "# Example usage\n",
        "img_paths = ['D://drive/eval/slippery.jpg', # Path to the new image you want to predict\n",
        "             'D://drive/eval/stop.png'\n",
        "             ]  \n",
        "\n",
        "# Check predictions for the provided paths\n",
        "results = {}\n",
        "for img_path in img_paths:\n",
        "    try:\n",
        "        predicted_class_name = predict_image(model, img_path, class_names)\n",
        "        results[img_path] = predicted_class_name\n",
        "    except Exception as e:\n",
        "        results[img_path] = str(e)\n",
        "\n",
        "print(results)\n",
        "\n",
        "\n",
        "\n"
      ]
    }
  ],
  "metadata": {
    "accelerator": "GPU",
    "colab": {
      "gpuType": "T4",
      "provenance": []
    },
    "kernelspec": {
      "display_name": "Python 3",
      "name": "python3"
    },
    "language_info": {
      "codemirror_mode": {
        "name": "ipython",
        "version": 3
      },
      "file_extension": ".py",
      "mimetype": "text/x-python",
      "name": "python",
      "nbconvert_exporter": "python",
      "pygments_lexer": "ipython3",
      "version": "3.11.9"
    }
  },
  "nbformat": 4,
  "nbformat_minor": 0
}
